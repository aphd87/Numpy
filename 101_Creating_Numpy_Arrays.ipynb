{
 "cells": [
  {
   "cell_type": "code",
   "execution_count": 2,
   "id": "e43aed16",
   "metadata": {},
   "outputs": [],
   "source": [
    "import numpy as np"
   ]
  },
  {
   "cell_type": "code",
   "execution_count": 3,
   "id": "6b26b1af",
   "metadata": {},
   "outputs": [
    {
     "data": {
      "text/plain": [
       "numpy.ndarray"
      ]
     },
     "execution_count": 3,
     "metadata": {},
     "output_type": "execute_result"
    }
   ],
   "source": [
    "my_1d_array = np.array([1,2,3])\n",
    "type(my_1d_array)"
   ]
  },
  {
   "cell_type": "code",
   "execution_count": 5,
   "id": "b3792eb1",
   "metadata": {},
   "outputs": [
    {
     "data": {
      "text/plain": [
       "(3,)"
      ]
     },
     "execution_count": 5,
     "metadata": {},
     "output_type": "execute_result"
    }
   ],
   "source": [
    "my_1d_array.shape"
   ]
  },
  {
   "cell_type": "code",
   "execution_count": 6,
   "id": "5012ad2f",
   "metadata": {},
   "outputs": [
    {
     "data": {
      "text/plain": [
       "1"
      ]
     },
     "execution_count": 6,
     "metadata": {},
     "output_type": "execute_result"
    }
   ],
   "source": [
    "my_1d_array[0] #First element"
   ]
  },
  {
   "cell_type": "code",
   "execution_count": 7,
   "id": "5454e1dd",
   "metadata": {},
   "outputs": [
    {
     "data": {
      "text/plain": [
       "array([1, 2])"
      ]
     },
     "execution_count": 7,
     "metadata": {},
     "output_type": "execute_result"
    }
   ],
   "source": [
    "my_1d_array[0:2] #Slicing"
   ]
  },
  {
   "cell_type": "code",
   "execution_count": 8,
   "id": "c06597bf",
   "metadata": {},
   "outputs": [
    {
     "name": "stdout",
     "output_type": "stream",
     "text": [
      "[[ 1  2  3  4  5]\n",
      " [ 6  7  8  9 10]]\n"
     ]
    }
   ],
   "source": [
    "my_2d_array = np.array([[1,2,3,4,5],[6,7,8,9,10]])\n",
    "print(my_2d_array)"
   ]
  },
  {
   "cell_type": "code",
   "execution_count": 11,
   "id": "4ae64323",
   "metadata": {},
   "outputs": [
    {
     "data": {
      "text/plain": [
       "(2, 5)"
      ]
     },
     "execution_count": 11,
     "metadata": {},
     "output_type": "execute_result"
    }
   ],
   "source": [
    "my_2d_array.shape #2 rows, 5 columns"
   ]
  },
  {
   "cell_type": "code",
   "execution_count": 9,
   "id": "00c34a3d",
   "metadata": {},
   "outputs": [
    {
     "data": {
      "text/plain": [
       "array([1, 2, 3, 4, 5])"
      ]
     },
     "execution_count": 9,
     "metadata": {},
     "output_type": "execute_result"
    }
   ],
   "source": [
    "my_2d_array[0] #First row"
   ]
  },
  {
   "cell_type": "code",
   "execution_count": 10,
   "id": "b9265e4a",
   "metadata": {},
   "outputs": [
    {
     "data": {
      "text/plain": [
       "array([ 6,  7,  8,  9, 10])"
      ]
     },
     "execution_count": 10,
     "metadata": {},
     "output_type": "execute_result"
    }
   ],
   "source": [
    "my_2d_array[1] #Second row"
   ]
  },
  {
   "cell_type": "code",
   "execution_count": 13,
   "id": "5ddc64e2",
   "metadata": {},
   "outputs": [
    {
     "data": {
      "text/plain": [
       "2"
      ]
     },
     "execution_count": 13,
     "metadata": {},
     "output_type": "execute_result"
    }
   ],
   "source": [
    "my_2d_array[0][1] #First row, element 1\n",
    "my_2d_array[0,1] #Also first row, element 1"
   ]
  },
  {
   "cell_type": "code",
   "execution_count": 14,
   "id": "97a2de01",
   "metadata": {},
   "outputs": [
    {
     "data": {
      "text/plain": [
       "array([[2, 3],\n",
       "       [7, 8]])"
      ]
     },
     "execution_count": 14,
     "metadata": {},
     "output_type": "execute_result"
    }
   ],
   "source": [
    "my_2d_array[0:2,1:3] #Partial array"
   ]
  },
  {
   "cell_type": "code",
   "execution_count": 16,
   "id": "57bf32a2",
   "metadata": {},
   "outputs": [
    {
     "data": {
      "text/plain": [
       "array([[0., 0., 0.],\n",
       "       [0., 0., 0.],\n",
       "       [0., 0., 0.]])"
      ]
     },
     "execution_count": 16,
     "metadata": {},
     "output_type": "execute_result"
    }
   ],
   "source": [
    "np.zeros(3) #1D array with 3 zeroes\n",
    "np.zeros((3,3)) #3x3 array"
   ]
  },
  {
   "cell_type": "code",
   "execution_count": 18,
   "id": "2c6e001d",
   "metadata": {},
   "outputs": [
    {
     "data": {
      "text/plain": [
       "array([[[0., 0., 0.],\n",
       "        [0., 0., 0.],\n",
       "        [0., 0., 0.]],\n",
       "\n",
       "       [[0., 0., 0.],\n",
       "        [0., 0., 0.],\n",
       "        [0., 0., 0.]],\n",
       "\n",
       "       [[0., 0., 0.],\n",
       "        [0., 0., 0.],\n",
       "        [0., 0., 0.]]])"
      ]
     },
     "execution_count": 18,
     "metadata": {},
     "output_type": "execute_result"
    }
   ],
   "source": [
    "np.zeros((3,3,3))"
   ]
  },
  {
   "cell_type": "code",
   "execution_count": 19,
   "id": "e6adf1a9",
   "metadata": {},
   "outputs": [
    {
     "data": {
      "text/plain": [
       "array([[[1., 1., 1.],\n",
       "        [1., 1., 1.],\n",
       "        [1., 1., 1.]],\n",
       "\n",
       "       [[1., 1., 1.],\n",
       "        [1., 1., 1.],\n",
       "        [1., 1., 1.]],\n",
       "\n",
       "       [[1., 1., 1.],\n",
       "        [1., 1., 1.],\n",
       "        [1., 1., 1.]]])"
      ]
     },
     "execution_count": 19,
     "metadata": {},
     "output_type": "execute_result"
    }
   ],
   "source": [
    "np.ones((3,3,3))"
   ]
  },
  {
   "cell_type": "code",
   "execution_count": 20,
   "id": "5a010d40",
   "metadata": {},
   "outputs": [
    {
     "data": {
      "text/plain": [
       "array([[5, 5, 5],\n",
       "       [5, 5, 5],\n",
       "       [5, 5, 5]])"
      ]
     },
     "execution_count": 20,
     "metadata": {},
     "output_type": "execute_result"
    }
   ],
   "source": [
    "np.full((3,3), 5)"
   ]
  },
  {
   "cell_type": "code",
   "execution_count": 23,
   "id": "a7f8e64c",
   "metadata": {},
   "outputs": [
    {
     "data": {
      "text/plain": [
       "array([2, 4, 6, 8])"
      ]
     },
     "execution_count": 23,
     "metadata": {},
     "output_type": "execute_result"
    }
   ],
   "source": [
    "#This has a start, stop, step logic\n",
    "\n",
    "np.arange(10)\n",
    "np.arange(2,10) #Start at 2, stop at 10\n",
    "np.arange(2,10,2) #Jumping by 2 at each time"
   ]
  },
  {
   "cell_type": "code",
   "execution_count": 24,
   "id": "3ce23fd8",
   "metadata": {},
   "outputs": [
    {
     "data": {
      "text/plain": [
       "array([1.        , 1.21052632, 1.42105263, 1.63157895, 1.84210526,\n",
       "       2.05263158, 2.26315789, 2.47368421, 2.68421053, 2.89473684,\n",
       "       3.10526316, 3.31578947, 3.52631579, 3.73684211, 3.94736842,\n",
       "       4.15789474, 4.36842105, 4.57894737, 4.78947368, 5.        ])"
      ]
     },
     "execution_count": 24,
     "metadata": {},
     "output_type": "execute_result"
    }
   ],
   "source": [
    "np.linspace(1,5,20) #Linspace means linear...evenly spaced between starting and stopping points."
   ]
  },
  {
   "cell_type": "code",
   "execution_count": 25,
   "id": "77170a96",
   "metadata": {},
   "outputs": [
    {
     "data": {
      "text/plain": [
       "array([1.  , 1.21, 1.42, 1.63, 1.84, 2.05, 2.26, 2.47, 2.68, 2.89, 3.11,\n",
       "       3.32, 3.53, 3.74, 3.95, 4.16, 4.37, 4.58, 4.79, 5.  ])"
      ]
     },
     "execution_count": 25,
     "metadata": {},
     "output_type": "execute_result"
    }
   ],
   "source": [
    "#Numpy has functionality for rounding\n",
    "\n",
    "float_array = np.linspace(1,5,20)\n",
    "np.round(float_array,2)#Round to two decimal places"
   ]
  },
  {
   "cell_type": "code",
   "execution_count": 26,
   "id": "c34c3fe4",
   "metadata": {},
   "outputs": [
    {
     "data": {
      "text/plain": [
       "array([0.82146206, 0.66516466, 0.39968819, 0.93815429, 0.71879101])"
      ]
     },
     "execution_count": 26,
     "metadata": {},
     "output_type": "execute_result"
    }
   ],
   "source": [
    "np.random.rand(5) #1D with 5 random numbers\n",
    "        "
   ]
  },
  {
   "cell_type": "code",
   "execution_count": 27,
   "id": "dcdaabe7",
   "metadata": {},
   "outputs": [
    {
     "data": {
      "text/plain": [
       "array([[0.32110002, 0.12419332],\n",
       "       [0.93651514, 0.77854409],\n",
       "       [0.70682798, 0.97532319],\n",
       "       [0.77732492, 0.75283718],\n",
       "       [0.99173379, 0.03659898]])"
      ]
     },
     "execution_count": 27,
     "metadata": {},
     "output_type": "execute_result"
    }
   ],
   "source": [
    "np.random.rand(5,2)#2D with 5 rows"
   ]
  },
  {
   "cell_type": "code",
   "execution_count": 28,
   "id": "8b4c7c5a",
   "metadata": {},
   "outputs": [
    {
     "data": {
      "text/plain": [
       "array([71, 45, 20, 46, 42, 29, 67, 70, 45, 74, 69, 65, 59, 48, 58, 45, 54,\n",
       "       72, 44, 28, 32, 76, 68, 58, 57, 27, 61, 71, 27, 56, 45, 28, 36, 65,\n",
       "       37, 27, 46, 51, 47, 21, 31, 77, 50, 22, 65, 72, 22, 28, 65, 29, 26,\n",
       "       76, 72, 41, 29, 37, 64, 50, 64, 31, 74, 57, 51, 36, 37, 51, 63, 60,\n",
       "       64, 27, 26, 35, 35, 75, 65, 56, 59, 41, 46, 45, 28, 33, 47, 24, 33,\n",
       "       37, 78, 55, 39, 77, 40, 50, 61, 31, 58, 48, 43, 68, 60, 66])"
      ]
     },
     "execution_count": 28,
     "metadata": {},
     "output_type": "execute_result"
    }
   ],
   "source": [
    "np.random.randint(20,80,100)\n",
    "#Provided array of 100 random integers that are between 20 and 80"
   ]
  },
  {
   "cell_type": "code",
   "execution_count": 30,
   "id": "f0f7586b",
   "metadata": {},
   "outputs": [
    {
     "data": {
      "text/plain": [
       "array([[77, 24, 71, 27, 42, 25, 31, 58, 72, 36],\n",
       "       [58, 65, 79, 54, 78, 50, 53, 25, 54, 20],\n",
       "       [36, 68, 50, 76, 25, 34, 21, 73, 43, 58],\n",
       "       [77, 58, 49, 53, 65, 31, 24, 51, 73, 40],\n",
       "       [62, 70, 76, 51, 41, 73, 48, 31, 29, 74],\n",
       "       [72, 59, 25, 61, 35, 30, 50, 20, 21, 58],\n",
       "       [53, 44, 58, 41, 78, 24, 59, 72, 29, 26],\n",
       "       [54, 70, 68, 41, 58, 77, 59, 53, 41, 34],\n",
       "       [47, 46, 21, 75, 34, 53, 57, 74, 57, 57],\n",
       "       [23, 77, 50, 28, 40, 33, 62, 37, 30, 35]])"
      ]
     },
     "execution_count": 30,
     "metadata": {},
     "output_type": "execute_result"
    }
   ],
   "source": [
    "np.random.randint(20,80,(10,10)) #100 random integers but instead of 1D, 2D that is 10x10"
   ]
  },
  {
   "cell_type": "code",
   "execution_count": 31,
   "id": "c252a951",
   "metadata": {},
   "outputs": [
    {
     "name": "stdout",
     "output_type": "stream",
     "text": [
      "[[42 30 65 65 39 43 42 73 64 31]\n",
      " [34 61 58 59 47 56 36 30 26 60]\n",
      " [70 78 76 55 49 78 54 66 52 41]\n",
      " [22 35 35 77 41 29 76 77 31 31]\n",
      " [79 71 47 52 71 22 40 76 21 36]\n",
      " [79 60 78 24 58 69 28 20 52 28]\n",
      " [70 20 60 31 73 66 38 77 76 42]\n",
      " [66 67 77 27 79 31 23 38 61 45]\n",
      " [77 34 25 31 54 50 52 30 79 57]\n",
      " [37 68 62 66 43 73 61 33 76 54]]\n"
     ]
    }
   ],
   "source": [
    "#You can reshape an array\n",
    "\n",
    "my_1d_array = np.random.randint(20,80,100)\n",
    "my_2d_array = my_1d_array.reshape(10,10)\n",
    "print(my_2d_array)"
   ]
  },
  {
   "cell_type": "code",
   "execution_count": null,
   "id": "5a28afa2",
   "metadata": {},
   "outputs": [],
   "source": []
  }
 ],
 "metadata": {
  "kernelspec": {
   "display_name": "Python 3 (ipykernel)",
   "language": "python",
   "name": "python3"
  },
  "language_info": {
   "codemirror_mode": {
    "name": "ipython",
    "version": 3
   },
   "file_extension": ".py",
   "mimetype": "text/x-python",
   "name": "python",
   "nbconvert_exporter": "python",
   "pygments_lexer": "ipython3",
   "version": "3.11.5"
  }
 },
 "nbformat": 4,
 "nbformat_minor": 5
}
